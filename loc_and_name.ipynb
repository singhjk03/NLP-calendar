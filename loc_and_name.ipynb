{
 "cells": [
  {
   "cell_type": "code",
   "execution_count": 27,
   "metadata": {},
   "outputs": [],
   "source": [
    "import torch\n",
    "from transformers import BertTokenizerFast, BertForTokenClassification\n",
    "\n",
    "\n",
    "# Define the label mappings manually\n",
    "id2label = {\n",
    "    0: 'O',        # Outside of a named entity\n",
    "    1: 'B-PER',    # Beginning of a person's name right after another person's name\n",
    "    2: 'I-PER',    # Person's name\n",
    "    3: 'B-LOC',    # Beginning of a location right after another location\n",
    "    4: 'I-LOC',    # Location\n",
    "    5: 'B-ORG',    # Beginning of an organization right after another organization\n",
    "    6: 'I-ORG',    # Organization\n",
    "    7: 'B-MISC',   # Beginning of a miscellaneous entity right after another miscellaneous entity\n",
    "    8: 'I-MISC',   # Miscellaneous entity\n",
    "}\n",
    "\n",
    "def predict_entities(sentence, model, tokenizer, id2label):\n",
    "    # Tokenize the input sentence and convert to tensor\n",
    "    sentence = sentence.lower()\n",
    "    inputs = tokenizer(sentence, return_tensors=\"pt\", truncation=True, padding=True, is_split_into_words=False)\n",
    "\n",
    "    # Move input tensors to the same device as model\n",
    "    inputs = {k: v.to(model.device) for k, v in inputs.items()}\n",
    "\n",
    "    # Get model predictions\n",
    "    with torch.no_grad():\n",
    "        outputs = model(**inputs)\n",
    "\n",
    "    predictions = outputs.logits.argmax(dim=-1).squeeze().tolist()\n",
    "    tokens = tokenizer.convert_ids_to_tokens(inputs[\"input_ids\"].squeeze().tolist())\n",
    "    predicted_labels = [id2label[pred] for pred in predictions]\n",
    "\n",
    "    token_label_pairs = list(zip(tokens, predicted_labels))\n",
    "    token_label_pairs = [(token, label) for token, label in token_label_pairs if token not in (tokenizer.cls_token, tokenizer.sep_token, tokenizer.pad_token)]\n",
    "\n",
    "    return token_label_pairs\n",
    "\n",
    "model_save_path = 'model_loc'\n",
    "tokenizer_save_path = 'tokenizer_loc'\n",
    "# Load the model\n",
    "model = BertForTokenClassification.from_pretrained(model_save_path)\n",
    "\n",
    "# Load the tokenizer\n",
    "tokenizer = BertTokenizerFast.from_pretrained(tokenizer_save_path)\n",
    "\n",
    "\n",
    "# Assuming the model and tokenizer are loaded and available\n",
    "\n",
    "\n"
   ]
  },
  {
   "cell_type": "code",
   "execution_count": 30,
   "metadata": {},
   "outputs": [
    {
     "name": "stdout",
     "output_type": "stream",
     "text": [
      "{'person': 'mohit', 'location': 'hotel tu li imperial'}\n"
     ]
    }
   ],
   "source": [
    "sentence = \"I have to attend a meeting with Mohit at Hotel Tuli Imperial on 22nd Aprin, 4PM\"\n",
    "token_label_pairs = predict_entities(sentence, model, tokenizer, id2label)\n",
    "\n",
    "# for token, label in token_label_pairs:\n",
    "#     print(f\"{token}: {label}\")\n",
    "\n",
    "person = []\n",
    "location = []\n",
    "\n",
    "for token, label in token_label_pairs:\n",
    "    if label == \"B-PER\":\n",
    "        if(\"##\" in token):\n",
    "          person.append(token.replace(\"##\", \"\"))\n",
    "        else:\n",
    "          person.append(token)\n",
    "    elif label == \"I-PER\":\n",
    "        person.append(token.replace(\"##\", \"\"))\n",
    "    elif label == \"B-ORG\":\n",
    "        location = [token.replace(\"##\", \"\")]\n",
    "    elif label == \"I-ORG\":\n",
    "        location.append(token.replace(\"##\", \"\"))\n",
    "\n",
    "output = {\n",
    "    \"person\": \"\".join(person),\n",
    "    \"location\": \" \".join(location)\n",
    "}\n",
    "\n",
    "print(output)\n"
   ]
  },
  {
   "cell_type": "code",
   "execution_count": null,
   "metadata": {},
   "outputs": [],
   "source": []
  }
 ],
 "metadata": {
  "kernelspec": {
   "display_name": "Python 3",
   "language": "python",
   "name": "python3"
  },
  "language_info": {
   "codemirror_mode": {
    "name": "ipython",
    "version": 3
   },
   "file_extension": ".py",
   "mimetype": "text/x-python",
   "name": "python",
   "nbconvert_exporter": "python",
   "pygments_lexer": "ipython3",
   "version": "3.12.2"
  }
 },
 "nbformat": 4,
 "nbformat_minor": 2
}
