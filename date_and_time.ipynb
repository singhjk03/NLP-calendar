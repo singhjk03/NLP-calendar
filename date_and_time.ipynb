{
 "cells": [
  {
   "cell_type": "code",
   "execution_count": 18,
   "metadata": {},
   "outputs": [],
   "source": [
    "from transformers import AutoTokenizer, AutoModelForTokenClassification\n",
    "\n",
    "tokenizer = AutoTokenizer.from_pretrained(\"tokenizer_date\")\n",
    "model = AutoModelForTokenClassification.from_pretrained(\"model_date\")"
   ]
  },
  {
   "cell_type": "code",
   "execution_count": null,
   "metadata": {},
   "outputs": [],
   "source": []
  },
  {
   "cell_type": "code",
   "execution_count": 19,
   "metadata": {},
   "outputs": [],
   "source": [
    "# Use a pipeline as a high-level helper\n",
    "from transformers import pipeline\n",
    "\n",
    "pipe = pipeline(\"token-classification\", model=model, tokenizer=tokenizer)"
   ]
  },
  {
   "cell_type": "code",
   "execution_count": 35,
   "metadata": {},
   "outputs": [
    {
     "data": {
      "text/plain": [
       "[{'entity': 'B-DATE',\n",
       "  'score': 0.99277323,\n",
       "  'index': 6,\n",
       "  'word': '24th',\n",
       "  'start': 20,\n",
       "  'end': 24},\n",
       " {'entity': 'I-DATE',\n",
       "  'score': 0.94976634,\n",
       "  'index': 7,\n",
       "  'word': 'April',\n",
       "  'start': 25,\n",
       "  'end': 30},\n",
       " {'entity': 'B-TIME',\n",
       "  'score': 0.9579224,\n",
       "  'index': 9,\n",
       "  'word': '3',\n",
       "  'start': 34,\n",
       "  'end': 35},\n",
       " {'entity': 'I-TIME',\n",
       "  'score': 0.9816777,\n",
       "  'index': 10,\n",
       "  'word': '##PM',\n",
       "  'start': 35,\n",
       "  'end': 37},\n",
       " {'entity': 'B-DATE',\n",
       "  'score': 0.97738975,\n",
       "  'index': 12,\n",
       "  'word': '25th',\n",
       "  'start': 42,\n",
       "  'end': 46},\n",
       " {'entity': 'I-DATE',\n",
       "  'score': 0.7439361,\n",
       "  'index': 13,\n",
       "  'word': 'April',\n",
       "  'start': 47,\n",
       "  'end': 52},\n",
       " {'entity': 'I-TIME',\n",
       "  'score': 0.58697575,\n",
       "  'index': 14,\n",
       "  'word': 'at',\n",
       "  'start': 53,\n",
       "  'end': 55},\n",
       " {'entity': 'B-TIME',\n",
       "  'score': 0.94118047,\n",
       "  'index': 15,\n",
       "  'word': '4',\n",
       "  'start': 56,\n",
       "  'end': 57},\n",
       " {'entity': 'I-TIME',\n",
       "  'score': 0.97838575,\n",
       "  'index': 16,\n",
       "  'word': '##PM',\n",
       "  'start': 57,\n",
       "  'end': 59}]"
      ]
     },
     "execution_count": 35,
     "metadata": {},
     "output_type": "execute_result"
    }
   ],
   "source": [
    "pipe(\"I have a meeting on 24th April at 3PM and 25th April at 4PM\")"
   ]
  },
  {
   "cell_type": "code",
   "execution_count": 30,
   "metadata": {},
   "outputs": [
    {
     "name": "stdout",
     "output_type": "stream",
     "text": [
      "{'date': 'Monday', 'time': '3pm'}\n"
     ]
    }
   ],
   "source": [
    "entities_ = pipe(\"I have a meeting on monday\")\n",
    "\n",
    "date = None\n",
    "time = None\n",
    "\n",
    "for entity in entities:\n",
    "    if entity['entity'] == 'B-DATE':\n",
    "        date = entity['word']\n",
    "    elif entity['entity'] == 'I-DATE':\n",
    "        date += ' ' + entity['word']\n",
    "    elif entity['entity'] == 'B-TIME':\n",
    "        time = entity['word']\n",
    "    elif entity['entity'] == 'I-TIME':\n",
    "        time += entity['word'].replace('##', '')\n",
    "\n",
    "result = {\n",
    "    'date': date,\n",
    "    'time': time\n",
    "}\n",
    "\n",
    "print(result)"
   ]
  },
  {
   "cell_type": "code",
   "execution_count": 34,
   "metadata": {},
   "outputs": [
    {
     "name": "stdout",
     "output_type": "stream",
     "text": [
      "{'date': ['24th April', '25th April'], 'time': ['3PM', '3PMat', '4PM']}\n"
     ]
    }
   ],
   "source": [
    "entities = pipe(\"I have a meeting on 24th April at 3PM and 25th April at 4PM\")\n",
    "\n",
    "date = []\n",
    "time = []\n",
    "\n",
    "for entity in entities:\n",
    "    if entity['entity'] == 'B-DATE':\n",
    "        word_date = entity['word']\n",
    "    elif entity['entity'] == 'I-DATE':\n",
    "        word_date += ' ' + entity['word']\n",
    "        date.append(word_date)\n",
    "    elif entity['entity'] == 'B-TIME':\n",
    "        word_time = entity['word']\n",
    "    elif entity['entity'] == 'I-TIME':\n",
    "        word_time += entity['word'].replace('##', '')\n",
    "        time.append(word_time)\n",
    "\n",
    "result = {\n",
    "    'date': date,\n",
    "    'time': time\n",
    "}\n",
    "\n",
    "print(result)"
   ]
  },
  {
   "cell_type": "code",
   "execution_count": 44,
   "metadata": {},
   "outputs": [
    {
     "name": "stdout",
     "output_type": "stream",
     "text": [
      "{'date': ['2ndApril'], 'time': ['4PM']}\n"
     ]
    }
   ],
   "source": [
    "entities = pipe(\"Wedding on 2nd April at 4PM\")\n",
    "\n",
    "import datetime\n",
    "\n",
    "def merge_entities(entities):\n",
    "    merged_entities = {'date': [], 'time': []}\n",
    "    current_date = []\n",
    "    current_time = []\n",
    "    \n",
    "    for entity in entities:\n",
    "        if entity['entity'].startswith('B-DATE'):\n",
    "            if current_date:\n",
    "                merged_entities['date'].append(''.join(current_date))\n",
    "            current_date = [entity['word']]\n",
    "        elif entity['entity'].startswith('I-DATE'):\n",
    "            current_date.append(entity['word'])\n",
    "        elif entity['entity'].startswith('B-TIME'):\n",
    "            if current_time:\n",
    "                merged_entities['time'].append(''.join(current_time).replace('##', ''))\n",
    "            current_time = [entity['word'].replace('##', '')]\n",
    "        elif entity['entity'].startswith('I-TIME'):\n",
    "            current_time.append(entity['word'].replace('##', ''))\n",
    "    \n",
    "    if current_date:\n",
    "        merged_entities['date'].append(''.join(current_date))\n",
    "    if current_time:\n",
    "        merged_entities['time'].append(''.join(current_time))\n",
    "    \n",
    "    \n",
    "    return merged_entities\n",
    "\n",
    "merged = merge_entities(entities)\n",
    "\n",
    "print(merged)"
   ]
  },
  {
   "cell_type": "code",
   "execution_count": null,
   "metadata": {},
   "outputs": [],
   "source": []
  }
 ],
 "metadata": {
  "kernelspec": {
   "display_name": "Python 3",
   "language": "python",
   "name": "python3"
  },
  "language_info": {
   "codemirror_mode": {
    "name": "ipython",
    "version": 3
   },
   "file_extension": ".py",
   "mimetype": "text/x-python",
   "name": "python",
   "nbconvert_exporter": "python",
   "pygments_lexer": "ipython3",
   "version": "3.12.2"
  }
 },
 "nbformat": 4,
 "nbformat_minor": 2
}
